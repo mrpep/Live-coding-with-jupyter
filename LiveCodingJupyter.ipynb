{
 "cells": [
  {
   "cell_type": "markdown",
   "metadata": {},
   "source": [
    "Start the audio engine. This is the heart of ..."
   ]
  },
  {
   "cell_type": "code",
   "execution_count": 1,
   "metadata": {},
   "outputs": [],
   "source": [
    "from audio_engine import AudioEngine\n",
    "from signals import Oscillator\n",
    "import threading\n",
    "import matplotlib.pyplot as plt\n",
    "import numpy as np\n",
    "\n",
    "audio_engine = AudioEngine()\n",
    "\n",
    "audio_thread = threading.Thread(target = audio_engine.run, daemon = True)\n",
    "audio_thread.start()\n",
    "audio_engine.play()"
   ]
  },
  {
   "cell_type": "markdown",
   "metadata": {},
   "source": []
  },
  {
   "cell_type": "code",
   "execution_count": 2,
   "metadata": {},
   "outputs": [],
   "source": [
    "osc1 = Oscillator(name='1',frequency=2,amplitude=110,phase=0,offset=440)\n",
    "osc2 = Oscillator(name='2',frequency=1,amplitude=55,phase=0,offset=osc1)\n",
    "osc3 = Oscillator(name='3',frequency = osc2, amplitude=0.3,phase=0,offset=0)\n",
    "#audio_engine.add_sound(osc3)"
   ]
  },
  {
   "cell_type": "code",
   "execution_count": 3,
   "metadata": {},
   "outputs": [],
   "source": [
    "osc1.set_parameters(dict(frequency=440,amplitude=1,offset=0))\n",
    "osc2.set_parameters(dict(frequency=1,amplitude=0.5,offset=0.5))"
   ]
  },
  {
   "cell_type": "code",
   "execution_count": 16,
   "metadata": {},
   "outputs": [],
   "source": [
    "osc2.begin_t = 0\n",
    "osc2.end_t = 0.9\n",
    "osc2.loop = True"
   ]
  },
  {
   "cell_type": "code",
   "execution_count": 5,
   "metadata": {},
   "outputs": [],
   "source": [
    "osc3.stop()"
   ]
  },
  {
   "cell_type": "code",
   "execution_count": 5,
   "metadata": {},
   "outputs": [],
   "source": [
    "audio_engine.add_sound(osc1*osc2)"
   ]
  },
  {
   "cell_type": "code",
   "execution_count": 20,
   "metadata": {},
   "outputs": [],
   "source": [
    "audio_engine.stop()"
   ]
  },
  {
   "cell_type": "code",
   "execution_count": null,
   "metadata": {},
   "outputs": [],
   "source": []
  }
 ],
 "metadata": {
  "kernelspec": {
   "display_name": "Python 3",
   "language": "python",
   "name": "python3"
  },
  "language_info": {
   "codemirror_mode": {
    "name": "ipython",
    "version": 3
   },
   "file_extension": ".py",
   "mimetype": "text/x-python",
   "name": "python",
   "nbconvert_exporter": "python",
   "pygments_lexer": "ipython3",
   "version": "3.7.2"
  }
 },
 "nbformat": 4,
 "nbformat_minor": 2
}
