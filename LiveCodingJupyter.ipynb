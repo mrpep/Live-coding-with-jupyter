{
 "cells": [
  {
   "cell_type": "code",
   "execution_count": 1,
   "metadata": {},
   "outputs": [],
   "source": [
    "from audio_engine import AudioEngine\n",
    "from signals import Oscillator\n",
    "import threading\n",
    "\n",
    "audio_engine = AudioEngine()\n",
    "\n",
    "audio_thread = threading.Thread(target = audio_engine.run, daemon = True)\n",
    "audio_thread.start()\n",
    "audio_engine.play()"
   ]
  },
  {
   "cell_type": "code",
   "execution_count": 2,
   "metadata": {},
   "outputs": [],
   "source": [
    "fm2 = Oscillator(name='1',freq=20,amp=0.1,phase=0,offset=440)\n",
    "fm1 = Oscillator(name='1',freq=1,amp=1,phase=0,offset=fm2)\n",
    "osc1 = Oscillator(name='1',freq=fm1,amp=1,phase=0)\n",
    "osc2 = Oscillator(name='1',freq=osc1,amp=0.5,phase=fm2)\n",
    "audio_engine.add_sound(osc2)"
   ]
  },
  {
   "cell_type": "code",
   "execution_count": 19,
   "metadata": {},
   "outputs": [],
   "source": [
    "osc2.begin_t = 0\n",
    "osc2.end_t = 16000\n",
    "osc2.loop = True\n",
    "osc2.set_parameters({'frequency':osc1})\n",
    "fm1.set_parameters({'frequency':0.1})"
   ]
  },
  {
   "cell_type": "code",
   "execution_count": 5,
   "metadata": {},
   "outputs": [],
   "source": [
    "fm3 = Oscillator(name='1',freq=20,amp=0.1,phase=0,offset=440)\n",
    "osc3 = Oscillator(name='1',freq=osc1,amp=0.5,phase=fm3)\n",
    "audio_engine.add_sound(osc3)"
   ]
  },
  {
   "cell_type": "code",
   "execution_count": 63,
   "metadata": {},
   "outputs": [],
   "source": [
    "osc3.begin_t = 1000\n",
    "osc3.end_t = 160000\n",
    "osc3.loop = True\n",
    "osc3.set_parameters({'amplitude':0.505})\n",
    "osc3.set_parameters({'frequency':fm1})"
   ]
  },
  {
   "cell_type": "code",
   "execution_count": 22,
   "metadata": {},
   "outputs": [],
   "source": [
    "osc2.stop()"
   ]
  },
  {
   "cell_type": "code",
   "execution_count": 21,
   "metadata": {},
   "outputs": [],
   "source": [
    "osc2.play()"
   ]
  },
  {
   "cell_type": "code",
   "execution_count": 64,
   "metadata": {},
   "outputs": [],
   "source": [
    "audio_engine.stop()"
   ]
  },
  {
   "cell_type": "code",
   "execution_count": null,
   "metadata": {},
   "outputs": [],
   "source": []
  }
 ],
 "metadata": {
  "kernelspec": {
   "display_name": "Python 3",
   "language": "python",
   "name": "python3"
  },
  "language_info": {
   "codemirror_mode": {
    "name": "ipython",
    "version": 3
   },
   "file_extension": ".py",
   "mimetype": "text/x-python",
   "name": "python",
   "nbconvert_exporter": "python",
   "pygments_lexer": "ipython3",
   "version": "3.7.2"
  }
 },
 "nbformat": 4,
 "nbformat_minor": 2
}
