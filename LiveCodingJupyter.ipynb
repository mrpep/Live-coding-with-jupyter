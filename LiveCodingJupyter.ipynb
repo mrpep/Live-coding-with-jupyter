{
 "cells": [
  {
   "cell_type": "markdown",
   "metadata": {},
   "source": [
    "Start the audio engine. This is the heart of ..."
   ]
  },
  {
   "cell_type": "code",
   "execution_count": 1,
   "metadata": {},
   "outputs": [],
   "source": [
    "from audio_engine import AudioEngine\n",
    "from signals import Oscillator, Sequence, Sample\n",
    "import threading\n",
    "import matplotlib.pyplot as plt\n",
    "import numpy as np\n",
    "from utils import score_to_seq\n",
    "\n",
    "audio_engine = AudioEngine()\n",
    "\n",
    "audio_thread = threading.Thread(target = audio_engine.run, daemon = True)\n",
    "audio_thread.start()\n",
    "audio_engine.play()"
   ]
  },
  {
   "cell_type": "markdown",
   "metadata": {},
   "source": [
    "Let's create a sinusoidal oscillator. We will name it 'osc1': "
   ]
  },
  {
   "cell_type": "code",
   "execution_count": 2,
   "metadata": {},
   "outputs": [],
   "source": [
    "osc1 = Oscillator(frequency=440,amplitude=1,phase=0,offset=0)\n",
    "audio_engine.add_sound(osc1,'osc1')"
   ]
  },
  {
   "cell_type": "markdown",
   "metadata": {},
   "source": [
    "We can create a low frequency oscillator and set it as the frequency of 'osc1' -> This is FM synthesis. You can tweak the parameters and listen the results in real-time."
   ]
  },
  {
   "cell_type": "code",
   "execution_count": 3,
   "metadata": {},
   "outputs": [],
   "source": [
    "lfo1 = Oscillator(frequency=10,amplitude=10,offset=440,phase=0)\n",
    "osc1.set_parameters(dict(frequency=lfo1,amplitude=1,phase=0,offset=0))"
   ]
  },
  {
   "cell_type": "markdown",
   "metadata": {},
   "source": [
    "Now, you may wish to generate a sequence:"
   ]
  },
  {
   "cell_type": "code",
   "execution_count": 4,
   "metadata": {},
   "outputs": [],
   "source": [
    "melody = [(0/8,1/8,383),(1/8,2/8,323),(2/8,3/8,440),(3/8,4/8,121),(4/8,5/8,80),(5/8,6/8,330),(6/8,7/8,440),(7/8,8/8,45)]\n",
    "seq_1 = Sequence(sequence=melody)\n",
    "seq_1.begin_t = 0\n",
    "seq_1.end_t = 1.0\n",
    "seq_1.loop = True\n",
    "lfo1.set_parameters(dict(offset=seq_1,amplitude=0,frequency=10))"
   ]
  },
  {
   "cell_type": "markdown",
   "metadata": {},
   "source": [
    "The sequence is a list of tuples. Each tuple consists of (start_t,end_t,value). Also, we looped it from 0 to 1 seconds. But, typically you may want to write a sequence of notes in a more \"musical\" and easier way:"
   ]
  },
  {
   "cell_type": "code",
   "execution_count": 5,
   "metadata": {},
   "outputs": [],
   "source": [
    "seq_1.set_parameters(dict(sequence=score_to_seq(\"B1 D3 D2 F3 [F1 G3 F3] E2\")))"
   ]
  },
  {
   "cell_type": "markdown",
   "metadata": {},
   "source": [
    "We can change the waveform of the oscillator:"
   ]
  },
  {
   "cell_type": "code",
   "execution_count": 6,
   "metadata": {},
   "outputs": [],
   "source": [
    "osc1.set_parameters(dict(osc_type='square'))"
   ]
  },
  {
   "cell_type": "markdown",
   "metadata": {},
   "source": [
    "We can hear some clicks in the transitions of notes. Let's add an envelope:"
   ]
  },
  {
   "cell_type": "code",
   "execution_count": 7,
   "metadata": {},
   "outputs": [],
   "source": [
    "audio_engine.remove_sound('osc1')"
   ]
  },
  {
   "cell_type": "code",
   "execution_count": null,
   "metadata": {},
   "outputs": [],
   "source": []
  }
 ],
 "metadata": {
  "kernelspec": {
   "display_name": "Python 3",
   "language": "python",
   "name": "python3"
  },
  "language_info": {
   "codemirror_mode": {
    "name": "ipython",
    "version": 3
   },
   "file_extension": ".py",
   "mimetype": "text/x-python",
   "name": "python",
   "nbconvert_exporter": "python",
   "pygments_lexer": "ipython3",
   "version": "3.7.2"
  }
 },
 "nbformat": 4,
 "nbformat_minor": 2
}
