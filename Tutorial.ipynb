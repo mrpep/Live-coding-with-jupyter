{
 "cells": [
  {
   "cell_type": "code",
   "execution_count": 1,
   "metadata": {},
   "outputs": [
    {
     "name": "stdout",
     "output_type": "stream",
     "text": [
      "Starting new session\n",
      "Use default output devices? [(Y)/n)]\n",
      "Use default input devices? [(Y)/n)]\n"
     ]
    }
   ],
   "source": [
    "from core.interface import start_session\n",
    "from core.signals import *\n",
    "\n",
    "session = start_session()"
   ]
  },
  {
   "cell_type": "markdown",
   "metadata": {},
   "source": [
    "Let's create a sinusoidal oscillator. We will name it 'osc1': "
   ]
  },
  {
   "cell_type": "code",
   "execution_count": 2,
   "metadata": {},
   "outputs": [],
   "source": [
    "osc1 = Oscillator(frequency=440,amplitude=1,phase_0=0,offset=0)\n",
    "session.add_sound(osc1,'osc1')"
   ]
  },
  {
   "cell_type": "markdown",
   "metadata": {},
   "source": [
    "We can create a low frequency oscillator and set it as the frequency of 'osc1' -> This is FM synthesis. You can tweak the parameters and listen the results in real-time."
   ]
  },
  {
   "cell_type": "code",
   "execution_count": 3,
   "metadata": {},
   "outputs": [],
   "source": [
    "lfo1_a = Oscillator(frequency = 1, amplitude = 220,offset=440)\n",
    "osc1.parameters['frequency'] = lfo1_a"
   ]
  },
  {
   "cell_type": "markdown",
   "metadata": {},
   "source": [
    "It is possible to couple multiple oscillators in complex ways"
   ]
  },
  {
   "cell_type": "code",
   "execution_count": 81,
   "metadata": {},
   "outputs": [],
   "source": [
    "lfo1_a.parameters['frequency'] = 0.3\n",
    "lfo1_a.parameters['offset'] = 100\n",
    "lfo1_a.parameters['amplitude'] = 200\n",
    "lfo1_b = Oscillator(frequency = lfo1_a, amplitude = 1,offset=3)\n",
    "lfo1_c = Oscillator(frequency = lfo1_b*lfo1_a, amplitude = lfo1_b*lfo1_a,offset=lfo1_a)\n",
    "lfo1_d = Oscillator(frequency=1.4,offset=1,amplitude=1)\n",
    "osc1.parameters['frequency']=lfo1_c*lfo1_b*lfo1_d"
   ]
  },
  {
   "cell_type": "markdown",
   "metadata": {},
   "source": [
    "An oscillator can have a sine, square, saw or triangular waveform. Let's squarify:"
   ]
  },
  {
   "cell_type": "code",
   "execution_count": 82,
   "metadata": {},
   "outputs": [],
   "source": [
    "osc1.parameters['osc_type']='square'"
   ]
  },
  {
   "cell_type": "markdown",
   "metadata": {},
   "source": [
    "Let's play some notes now:"
   ]
  },
  {
   "cell_type": "code",
   "execution_count": 85,
   "metadata": {},
   "outputs": [],
   "source": [
    "melody = [(0/8,1/8,383),(1/8,2/8,323),(2/8,3/8,440),(3/8,4/8,121),(4/8,5/8,80),(5/8,6/8,330),(6/8,7/8,440),(7/8,8/8,45)]\n",
    "seq_1 = Sequence(sequence=melody)\n",
    "osc1.parameters['frequency']=seq_1\n",
    "#lfo1_b.parameters['frequency']=lfo1_a\n",
    "#lfo1_b.parameters['amplitude']=100"
   ]
  },
  {
   "cell_type": "markdown",
   "metadata": {},
   "source": [
    "We created the variable 'melody' which is a list of tuples. Each tuple has 3 elements: (init_time, end_time, value). In this case, the offset of LFO1 will be set to each of the values specified in melody.\n",
    "\n",
    "It is a bit difficult to write music with this format to specify sequence of values. Because of this, *** has a more intuitive and straight-forward of setting notes: "
   ]
  },
  {
   "cell_type": "code",
   "execution_count": 86,
   "metadata": {},
   "outputs": [],
   "source": [
    "from core.score import score_to_seq\n",
    "\n",
    "seq_1 = Sequence(sequence=score_to_seq(\"C3 C4 A2 A3 A#2 A#3*3 X*4\",bar_duration=2))\n",
    "osc1.parameters['frequency']=seq_1"
   ]
  },
  {
   "cell_type": "markdown",
   "metadata": {},
   "source": [
    "Each note has the same duration unless it has a multiplier or divisor. X means silence. We can also group notes so that together are like just one in terms of duration. This gives us a lot of rhytmic possibilities:"
   ]
  },
  {
   "cell_type": "code",
   "execution_count": 88,
   "metadata": {},
   "outputs": [],
   "source": [
    "seq_2 = Sequence(sequence=score_to_seq(\"[C3 C4 A2] A3 [A#2 A#3*3] X\",bar_duration=2))\n",
    "osc1.parameters['frequency']=seq_2"
   ]
  },
  {
   "cell_type": "markdown",
   "metadata": {},
   "source": [
    "We can easily combine sequences:"
   ]
  },
  {
   "cell_type": "code",
   "execution_count": 89,
   "metadata": {},
   "outputs": [],
   "source": [
    "osc1.parameters['frequency']=seq_2 = 3*seq_1 + 2*seq_2"
   ]
  }
 ],
 "metadata": {
  "kernelspec": {
   "display_name": "Python 3",
   "language": "python",
   "name": "python3"
  },
  "language_info": {
   "codemirror_mode": {
    "name": "ipython",
    "version": 3
   },
   "file_extension": ".py",
   "mimetype": "text/x-python",
   "name": "python",
   "nbconvert_exporter": "python",
   "pygments_lexer": "ipython3",
   "version": "3.7.6"
  }
 },
 "nbformat": 4,
 "nbformat_minor": 2
}
