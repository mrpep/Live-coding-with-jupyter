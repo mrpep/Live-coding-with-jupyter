{
 "cells": [
  {
   "cell_type": "code",
   "execution_count": 1,
   "metadata": {},
   "outputs": [
    {
     "name": "stdout",
     "output_type": "stream",
     "text": [
      "Starting new session\n",
      "Use default output devices? [(Y)/n)]\n",
      "Use default input devices? [(Y)/n)]\n"
     ]
    }
   ],
   "source": [
    "from core.interface import start_session\n",
    "from core.signals import *\n",
    "\n",
    "session = start_session()"
   ]
  },
  {
   "cell_type": "markdown",
   "metadata": {},
   "source": [
    "Let's create a sinusoidal oscillator. We will name it 'osc1': "
   ]
  },
  {
   "cell_type": "code",
   "execution_count": 2,
   "metadata": {},
   "outputs": [],
   "source": [
    "osc1 = Oscillator(frequency=440,amplitude=1,phase_0=0,offset=0)\n",
    "session.add_sound(osc1,'osc1')"
   ]
  },
  {
   "cell_type": "markdown",
   "metadata": {},
   "source": [
    "We can create a low frequency oscillator and set it as the frequency of 'osc1' -> This is FM synthesis. You can tweak the parameters and listen the results in real-time."
   ]
  },
  {
   "cell_type": "code",
   "execution_count": 3,
   "metadata": {},
   "outputs": [],
   "source": [
    "lfo1 = Oscillator(frequency = 2, amplitude = 80,offset=440)\n",
    "osc1.parameters['frequency']=lfo1"
   ]
  },
  {
   "cell_type": "markdown",
   "metadata": {},
   "source": [
    "An oscillator can have a sine, square, saw or triangular waveform. Let's squarify:"
   ]
  },
  {
   "cell_type": "code",
   "execution_count": 4,
   "metadata": {},
   "outputs": [],
   "source": [
    "osc1.parameters['osc_type']='square'"
   ]
  },
  {
   "cell_type": "markdown",
   "metadata": {},
   "source": [
    "Let's play some notes now:"
   ]
  },
  {
   "cell_type": "code",
   "execution_count": 5,
   "metadata": {},
   "outputs": [],
   "source": [
    "melody = [(0/8,1/8,383),(1/8,2/8,323),(2/8,3/8,440),(3/8,4/8,121),(4/8,5/8,80),(5/8,6/8,330),(6/8,7/8,440),(7/8,8/8,45)]\n",
    "seq_1 = Sequence(sequence=melody)\n",
    "lfo1.parameters['offset']=seq_1\n",
    "lfo1.parameters['frequency']=0.1\n",
    "lfo1.parameters['amplitude']=100"
   ]
  },
  {
   "cell_type": "markdown",
   "metadata": {},
   "source": [
    "We created the variable 'melody' which is a list of tuples. Each tuple has 3 elements: (init_time, end_time, value). In this case, the offset of LFO1 will be set to each of the values specified in melody.\n",
    "\n",
    "It is a bit difficult to write music with this format to specify sequence of values. Because of this, *** has a more intuitive and straight-forward of setting notes: "
   ]
  },
  {
   "cell_type": "code",
   "execution_count": 6,
   "metadata": {},
   "outputs": [],
   "source": [
    "from core.score import score_to_seq\n",
    "\n",
    "seq_1 = Sequence(sequence=score_to_seq(\"C3 C4 A2 A3 A#2 A#3*3 X*4\",bar_duration=2))\n",
    "lfo1.parameters['offset']=seq_1\n",
    "lfo1.parameters['amplitude']=0"
   ]
  },
  {
   "cell_type": "markdown",
   "metadata": {},
   "source": [
    "Each note has the same duration unless it has a multiplier or divisor. X means silence. We can also group notes so that together are like just one in terms of duration. This gives us a lot of rhytmic possibilities:"
   ]
  },
  {
   "cell_type": "code",
   "execution_count": 7,
   "metadata": {},
   "outputs": [],
   "source": [
    "seq_2 = Sequence(sequence=score_to_seq(\"[C3 C4 A2] A3 [A#2 A#3*3] X\",bar_duration=2))\n",
    "lfo1.parameters['offset']=seq_2"
   ]
  },
  {
   "cell_type": "markdown",
   "metadata": {},
   "source": [
    "To do: Secuencias como sumas de secuencias. Overload de __add__ y __mul__"
   ]
  },
  {
   "cell_type": "markdown",
   "metadata": {},
   "source": [
    "You can also play your fauvorite samples:"
   ]
  },
  {
   "cell_type": "code",
   "execution_count": 2,
   "metadata": {},
   "outputs": [],
   "source": [
    "sample1 = Sample('../guitarbend1.wav')\n",
    "session.add_sound(sample1,'sample1')"
   ]
  },
  {
   "cell_type": "code",
   "execution_count": 16,
   "metadata": {},
   "outputs": [],
   "source": [
    "sample1.loop(0,1.85)"
   ]
  },
  {
   "cell_type": "code",
   "execution_count": 9,
   "metadata": {},
   "outputs": [],
   "source": [
    "session.remove_sound('osc1')"
   ]
  },
  {
   "cell_type": "code",
   "execution_count": 19,
   "metadata": {},
   "outputs": [],
   "source": [
    "import numpy as np\n",
    "a = np.array(melody)"
   ]
  },
  {
   "cell_type": "code",
   "execution_count": 23,
   "metadata": {},
   "outputs": [
    {
     "data": {
      "text/plain": [
       "1.0"
      ]
     },
     "execution_count": 23,
     "metadata": {},
     "output_type": "execute_result"
    }
   ],
   "source": [
    "np.max(a[:,1])"
   ]
  },
  {
   "cell_type": "code",
   "execution_count": null,
   "metadata": {},
   "outputs": [],
   "source": []
  }
 ],
 "metadata": {
  "kernelspec": {
   "display_name": "Python 3",
   "language": "python",
   "name": "python3"
  },
  "language_info": {
   "codemirror_mode": {
    "name": "ipython",
    "version": 3
   },
   "file_extension": ".py",
   "mimetype": "text/x-python",
   "name": "python",
   "nbconvert_exporter": "python",
   "pygments_lexer": "ipython3",
   "version": "3.7.2"
  }
 },
 "nbformat": 4,
 "nbformat_minor": 2
}
